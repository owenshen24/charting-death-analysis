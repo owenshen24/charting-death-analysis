{
 "cells": [
  {
   "cell_type": "code",
   "execution_count": 1,
   "metadata": {
    "code_folding": [
     0
    ],
    "collapsed": true
   },
   "outputs": [],
   "source": [
    "# Import statements\n",
    "import time\n",
    "import datetime\n",
    "import json\n",
    "import math\n",
    "import ast\n",
    "import os\n",
    "import csv\n",
    "import sys\n",
    "import requests\n",
    "import matplotlib.pyplot as plt\n",
    "import pandas as pd\n",
    "import numpy as np\n",
    "\n",
    "# Import our own CDC analysis package\n",
    "import cdc_analysis_methods\n",
    "\n",
    "# Suppress Warnings\n",
    "import warnings\n",
    "warnings.filterwarnings('ignore')\n",
    "\n",
    "# Magic\n",
    "% matplotlib inline\n",
    "%config InlineBackend.figure_format = 'retina'"
   ]
  },
  {
   "cell_type": "markdown",
   "metadata": {},
   "source": [
    "# Gathering Data"
   ]
  },
  {
   "cell_type": "markdown",
   "metadata": {},
   "source": [
    "## Actual Death Data"
   ]
  },
  {
   "cell_type": "markdown",
   "metadata": {},
   "source": [
    "We will compare news and Google Trends data with the actual numbers of how many people die from specific causes of death. A dataset encompassing every death that occurred in the US since 1999 is available at https://wonder.cdc.gov/. A dataset that summarizes the number of people who died from causes as specified in the International Catalogue of Diseases (ICD-10) is saved in data/cdc_by_year_and_icd10_cause_1999_2016.txt."
   ]
  },
  {
   "cell_type": "markdown",
   "metadata": {},
   "source": [
    "### Define death cause categories"
   ]
  },
  {
   "cell_type": "markdown",
   "metadata": {},
   "source": [
    "We will now define death cause categories of interest and gather the numbers for these categories from the CDC dataset. The categories are defined by a name (dictionary keys) and ranges of ICD-10 blocks. The information that was used to define these categories comes mostly from looking up ICD-10 diagnoses on Wikipedia and other online resources."
   ]
  },
  {
   "cell_type": "code",
   "execution_count": 2,
   "metadata": {
    "code_folding": [],
    "collapsed": true
   },
   "outputs": [],
   "source": [
    "cat_codename_icd_dict = {'heart':           ['I05-I09',\n",
    "                                             'I11',\n",
    "                                             'I20-I25',\n",
    "                                             'I26-I28',\n",
    "                                             'I30-I52'],\n",
    "                        'cancer_all':       ['C00-D48'],\n",
    "                        'cancer_lung':      ['C34'],\n",
    "                        'cancer_anal':      ['C13-C21'],\n",
    "                        'cancer_breast':    ['C50'],\n",
    "                        'loresp':           ['J40-J47'],\n",
    "                        'accident':         ['V01-X59'],\n",
    "                        'stroke':           ['I61-I64'],\n",
    "                        'alzheimer':        ['F00',\n",
    "                                             'G30'],\n",
    "                        'diabetes':         ['E10-E14'],\n",
    "                        'influpneu':        ['J09-J18'],\n",
    "                        'kidney':           ['N00-N29'],\n",
    "                        'suicide':          ['X60-X84'],\n",
    "                        'homicide_all':     ['X85-Y09'],\n",
    "                        'homicide_firearm': ['X93-X95'],\n",
    "                        'homicide_legmil':  ['Y35-Y36'],\n",
    "                        'overdose':         ['X40-X49'],\n",
    "                        'terrorism':        ['U01']}"
   ]
  },
  {
   "cell_type": "markdown",
   "metadata": {},
   "source": [
    "### Build a function that returns death numbers per category"
   ]
  },
  {
   "cell_type": "markdown",
   "metadata": {},
   "source": [
    "Next, we define a function that understands these ICD-10 block ranges. The function takes a ICD-10 block range string (such as 'I05-I09') and returns a list of all ICD-10 blocks that are within the specified range and also occur at least once in the CDC dataset. For better readability, the function is outsourced to cdc_analysis_methods.py. Let's see what it does:"
   ]
  },
  {
   "cell_type": "code",
   "execution_count": 3,
   "metadata": {},
   "outputs": [
    {
     "data": {
      "text/plain": [
       "array(['I05', 'I06', 'I07', 'I08', 'I09'], dtype=object)"
      ]
     },
     "execution_count": 3,
     "metadata": {},
     "output_type": "execute_result"
    }
   ],
   "source": [
    "cdc_analysis_methods.get_cdc_icd_blocks('I05-I09')"
   ]
  },
  {
   "cell_type": "code",
   "execution_count": 4,
   "metadata": {},
   "outputs": [
    {
     "data": {
      "text/plain": [
       "array(['V90', 'V91', 'V92', 'V93', 'V94', 'V95', 'V96', 'V97', 'V98',\n",
       "       'V99', 'W00', 'W01', 'W02', 'W03', 'W04', 'W05', 'W06', 'W07',\n",
       "       'W08', 'W09'], dtype=object)"
      ]
     },
     "execution_count": 4,
     "metadata": {},
     "output_type": "execute_result"
    }
   ],
   "source": [
    "cdc_analysis_methods.get_cdc_icd_blocks('V90-W09')"
   ]
  },
  {
   "cell_type": "markdown",
   "metadata": {},
   "source": [
    "The next step is to define a method that returns the number of people who died from a cause that falls within a specified ICD-10 block range. The method also takes years to consider (the default is 'all', which scrapes data from all available years 1999-2016). The first number that is returned is the absolute number of people, the second number is the first number divided by the population of the US in that year (which is specified in the CDC dataset, as well)"
   ]
  },
  {
   "cell_type": "code",
   "execution_count": 5,
   "metadata": {},
   "outputs": [
    {
     "data": {
      "text/plain": [
       "[15184.0, 5.2790925028601367e-05]"
      ]
     },
     "execution_count": 5,
     "metadata": {},
     "output_type": "execute_result"
    }
   ],
   "source": [
    "cdc_analysis_methods.get_mortality_by_icd_block_range('I05-I10', years=2002)"
   ]
  },
  {
   "cell_type": "markdown",
   "metadata": {},
   "source": [
    "Based on this method, we can now build another method that takes in the dictionary of death cause categories that we defined above and that returns the number of people who died from a cause that falls within any of these categories. Again, the function is in the cdc_analysis_methods package, it optionally takes years, returns the normalized mortality, and it looks like this:"
   ]
  },
  {
   "cell_type": "code",
   "execution_count": 6,
   "metadata": {},
   "outputs": [
    {
     "data": {
      "text/html": [
       "<div>\n",
       "<style>\n",
       "    .dataframe thead tr:only-child th {\n",
       "        text-align: right;\n",
       "    }\n",
       "\n",
       "    .dataframe thead th {\n",
       "        text-align: left;\n",
       "    }\n",
       "\n",
       "    .dataframe tbody tr th {\n",
       "        vertical-align: top;\n",
       "    }\n",
       "</style>\n",
       "<table border=\"1\" class=\"dataframe\">\n",
       "  <thead>\n",
       "    <tr style=\"text-align: right;\">\n",
       "      <th></th>\n",
       "      <th>raw_mortality</th>\n",
       "      <th>rel_mortality</th>\n",
       "    </tr>\n",
       "  </thead>\n",
       "  <tbody>\n",
       "    <tr>\n",
       "      <th>heart</th>\n",
       "      <td>11512237.0</td>\n",
       "      <td>0.038297</td>\n",
       "    </tr>\n",
       "    <tr>\n",
       "      <th>cancer_all</th>\n",
       "      <td>10504850.0</td>\n",
       "      <td>0.034816</td>\n",
       "    </tr>\n",
       "    <tr>\n",
       "      <th>cancer_lung</th>\n",
       "      <td>2817213.0</td>\n",
       "      <td>0.009349</td>\n",
       "    </tr>\n",
       "    <tr>\n",
       "      <th>cancer_anal</th>\n",
       "      <td>1483182.0</td>\n",
       "      <td>0.004924</td>\n",
       "    </tr>\n",
       "    <tr>\n",
       "      <th>cancer_breast</th>\n",
       "      <td>747919.0</td>\n",
       "      <td>0.002482</td>\n",
       "    </tr>\n",
       "    <tr>\n",
       "      <th>loresp</th>\n",
       "      <td>2434726.0</td>\n",
       "      <td>0.008051</td>\n",
       "    </tr>\n",
       "    <tr>\n",
       "      <th>accident</th>\n",
       "      <td>2146673.0</td>\n",
       "      <td>0.007084</td>\n",
       "    </tr>\n",
       "    <tr>\n",
       "      <th>stroke</th>\n",
       "      <td>1988802.0</td>\n",
       "      <td>0.006628</td>\n",
       "    </tr>\n",
       "    <tr>\n",
       "      <th>alzheimer</th>\n",
       "      <td>1373412.0</td>\n",
       "      <td>0.004509</td>\n",
       "    </tr>\n",
       "    <tr>\n",
       "      <th>diabetes</th>\n",
       "      <td>1316379.0</td>\n",
       "      <td>0.004362</td>\n",
       "    </tr>\n",
       "    <tr>\n",
       "      <th>influpneu</th>\n",
       "      <td>1038969.0</td>\n",
       "      <td>0.003459</td>\n",
       "    </tr>\n",
       "    <tr>\n",
       "      <th>kidney</th>\n",
       "      <td>861159.0</td>\n",
       "      <td>0.002844</td>\n",
       "    </tr>\n",
       "    <tr>\n",
       "      <th>suicide</th>\n",
       "      <td>648635.0</td>\n",
       "      <td>0.002139</td>\n",
       "    </tr>\n",
       "    <tr>\n",
       "      <th>homicide_all</th>\n",
       "      <td>307671.0</td>\n",
       "      <td>0.001021</td>\n",
       "    </tr>\n",
       "    <tr>\n",
       "      <th>homicide_firearm</th>\n",
       "      <td>213169.0</td>\n",
       "      <td>0.000706</td>\n",
       "    </tr>\n",
       "    <tr>\n",
       "      <th>homicide_legmil</th>\n",
       "      <td>7968.0</td>\n",
       "      <td>0.000026</td>\n",
       "    </tr>\n",
       "    <tr>\n",
       "      <th>overdose</th>\n",
       "      <td>533196.0</td>\n",
       "      <td>0.001737</td>\n",
       "    </tr>\n",
       "    <tr>\n",
       "      <th>terrorism</th>\n",
       "      <td>2931.0</td>\n",
       "      <td>0.000010</td>\n",
       "    </tr>\n",
       "  </tbody>\n",
       "</table>\n",
       "</div>"
      ],
      "text/plain": [
       "                  raw_mortality  rel_mortality\n",
       "heart                11512237.0       0.038297\n",
       "cancer_all           10504850.0       0.034816\n",
       "cancer_lung           2817213.0       0.009349\n",
       "cancer_anal           1483182.0       0.004924\n",
       "cancer_breast          747919.0       0.002482\n",
       "loresp                2434726.0       0.008051\n",
       "accident              2146673.0       0.007084\n",
       "stroke                1988802.0       0.006628\n",
       "alzheimer             1373412.0       0.004509\n",
       "diabetes              1316379.0       0.004362\n",
       "influpneu             1038969.0       0.003459\n",
       "kidney                 861159.0       0.002844\n",
       "suicide                648635.0       0.002139\n",
       "homicide_all           307671.0       0.001021\n",
       "homicide_firearm       213169.0       0.000706\n",
       "homicide_legmil          7968.0       0.000026\n",
       "overdose               533196.0       0.001737\n",
       "terrorism                2931.0       0.000010"
      ]
     },
     "execution_count": 6,
     "metadata": {},
     "output_type": "execute_result"
    }
   ],
   "source": [
    "cdc_analysis_methods.get_mortality_by_category(cat_codename_icd_dict, years='all')"
   ]
  },
  {
   "cell_type": "markdown",
   "metadata": {},
   "source": [
    "### Validate results"
   ]
  },
  {
   "cell_type": "markdown",
   "metadata": {},
   "source": [
    "We have now defined our categories and are able to gather the related data from CDC. Time to see if our data processing pipeline is valid. We check that by comparing our results with summarized data available on the Internet:"
   ]
  },
  {
   "cell_type": "code",
   "execution_count": 7,
   "metadata": {
    "collapsed": true
   },
   "outputs": [],
   "source": [
    "def compare_top_causes_2016(our_data_df):\n",
    "    # Comparison data\n",
    "    comp_top10 = pd.read_csv('./data/medicalnewstoday_statista_top_deaths_2016.csv')\n",
    "    comp_top10 = comp_top10.set_index('cause')\n",
    "    comp_top10[comp_top10 == 0] = None\n",
    "\n",
    "    # Data for normalization, extracted from cdc:\n",
    "    pop_2016      = 318810586\n",
    "    n_deaths_2016 = 2744248\n",
    "\n",
    "    # Normalize data by number of deaths in 2016\n",
    "    comp_top10['mnt_ratio'] = comp_top10['mnt_deaths']/n_deaths_2016\n",
    "    comp_top10['statista_ratio'] = comp_top10['statista_deaths']/n_deaths_2016\n",
    "    comp_top10['cdc_ratio'] = our_data_df['raw_mortality']/n_deaths_2016\n",
    "\n",
    "    comp_top10.loc[:, ['cdc_ratio', 'mnt_ratio', 'statista_ratio']].plot.bar()\n"
   ]
  },
  {
   "cell_type": "code",
   "execution_count": 8,
   "metadata": {},
   "outputs": [
    {
     "data": {
      "image/png": "[encoded data removed]",
      "text/plain": [
       "<matplotlib.figure.Figure at 0x7f1baaf9b4a8>"
      ]
     },
     "metadata": {
      "image/png": {
       "height": 325,
       "width": 380
      }
     },
     "output_type": "display_data"
    }
   ],
   "source": [
    "# Our data\n",
    "cdc_data_2016 = cdc_analysis_methods.get_mortality_by_category(cat_codename_icd_dict, years=2016)\n",
    "\n",
    "compare_top_causes_2016(cdc_data_2016)"
   ]
  },
  {
   "cell_type": "markdown",
   "metadata": {},
   "source": [
    "That looks overall very decent. The small fluctuations in the numbers by information source are within a reasonable range. We can go on!"
   ]
  },
  {
   "cell_type": "markdown",
   "metadata": {
    "heading_collapsed": true
   },
   "source": [
    "## Newspaper Mentions"
   ]
  },
  {
   "cell_type": "markdown",
   "metadata": {
    "hidden": true
   },
   "source": [
    "We'd like to see how often our different causes of death are mentioned in the news. Both the New York Times and the Guardian provide helpful APIs that allow us to query their database for how often a word is mentioned. Using the code below, we can load up our API keys to allow us make the appropriate function calls."
   ]
  },
  {
   "cell_type": "code",
   "execution_count": 14,
   "metadata": {
    "code_folding": [],
    "hidden": true
   },
   "outputs": [
    {
     "ename": "FileNotFoundError",
     "evalue": "[Errno 2] No such file or directory: 'nytDevKey.txt'",
     "output_type": "error",
     "traceback": [
      "\u001b[0;31m---------------------------------------------------------------------------\u001b[0m",
      "\u001b[0;31mFileNotFoundError\u001b[0m                         Traceback (most recent call last)",
      "\u001b[0;32m<ipython-input-14-4128cddbbd5a>\u001b[0m in \u001b[0;36m<module>\u001b[0;34m()\u001b[0m\n\u001b[1;32m      1\u001b[0m \u001b[0;31m# Importing API key\u001b[0m\u001b[0;34m\u001b[0m\u001b[0;34m\u001b[0m\u001b[0m\n\u001b[1;32m      2\u001b[0m \u001b[0mnytAPIPath\u001b[0m \u001b[0;34m=\u001b[0m \u001b[0;34m'nytDevKey.txt'\u001b[0m\u001b[0;34m\u001b[0m\u001b[0m\n\u001b[0;32m----> 3\u001b[0;31m \u001b[0mfin\u001b[0m\u001b[0;34m=\u001b[0m\u001b[0mopen\u001b[0m\u001b[0;34m(\u001b[0m\u001b[0mnytAPIPath\u001b[0m\u001b[0;34m,\u001b[0m\u001b[0;34m'r'\u001b[0m\u001b[0;34m)\u001b[0m\u001b[0;34m\u001b[0m\u001b[0m\n\u001b[0m\u001b[1;32m      4\u001b[0m \u001b[0mnyt_api_key\u001b[0m \u001b[0;34m=\u001b[0m \u001b[0mstr\u001b[0m\u001b[0;34m(\u001b[0m\u001b[0mfin\u001b[0m\u001b[0;34m.\u001b[0m\u001b[0mreadline\u001b[0m\u001b[0;34m(\u001b[0m\u001b[0;34m)\u001b[0m\u001b[0;34m)\u001b[0m\u001b[0;34m.\u001b[0m\u001b[0mrstrip\u001b[0m\u001b[0;34m(\u001b[0m\u001b[0;34m)\u001b[0m\u001b[0;34m\u001b[0m\u001b[0m\n\u001b[1;32m      5\u001b[0m \u001b[0;34m\u001b[0m\u001b[0m\n",
      "\u001b[0;31mFileNotFoundError\u001b[0m: [Errno 2] No such file or directory: 'nytDevKey.txt'"
     ]
    }
   ],
   "source": [
    "# Importing API key\n",
    "nytAPIPath = 'nytDevKey.txt'\n",
    "fin=open(nytAPIPath,'r')\n",
    "nyt_api_key = str(fin.readline()).rstrip()\n",
    "\n",
    "guardianAPIPath = 'guardianAPI.txt'\n",
    "fin=open(guardianAPIPath,'r')\n",
    "guardian_api_key = str(fin.readline()).rstrip()"
   ]
  },
  {
   "cell_type": "markdown",
   "metadata": {
    "hidden": true
   },
   "source": [
    "Now that we've got our API keys set, we'll write two functions which can search both the NYT and the Guardian's databases. We'll use Requests to make the HTTP request and parse the resulting JSON to grab the number of hits, which is either denoted as 'hits' or as 'total'."
   ]
  },
  {
   "cell_type": "code",
   "execution_count": null,
   "metadata": {
    "code_folding": [
     3,
     25
    ],
    "collapsed": true,
    "hidden": true
   },
   "outputs": [],
   "source": [
    "# NYT API:\n",
    "nyt_url = \"https://api.nytimes.com/svc/search/v2/articlesearch.json\";\n",
    "\n",
    "def searchNYT(string, startDate, endDate, page=\"0\", justHits=False):\n",
    "    searchString = (nyt_url + '?fq=' + '\"' + string + '\"' + '&page=' + page \n",
    "                    + '&begin_date=' + startDate + '&end_date=' + endDate + '&api-key=' + nyt_api_key)\n",
    "    \n",
    "    response = requests.get(searchString).json();\n",
    "\n",
    "    if (justHits):\n",
    "        \n",
    "        # logic to handle different response types, standardizes them\n",
    "        if 'response' not in response.keys():\n",
    "            response = ast.literal_eval(response['message'])\n",
    "    \n",
    "        return response['response']['meta']['hits']\n",
    "    \n",
    "    else:\n",
    "        return response\n",
    "    \n",
    "        \n",
    "# The Guardian's API\n",
    "guardian_url = \"https://content.guardianapis.com/search\"\n",
    "\n",
    "def searchGuardian(string, startDate, page='1', justHits=False):\n",
    "    searchString = (guardian_url + '?q=' + '\"' + string + '\"' + '&from-date=' + startDate + \n",
    "                    '&page=' + page + '&page-size=50' + '&order-by=oldest' + \n",
    "                    '&api-key=' + guardian_api_key)\n",
    "    \n",
    "    response = requests.get(searchString);\n",
    "    \n",
    "    response = response.json()\n",
    "    \n",
    "    if (justHits):\n",
    "        return response['response']['total']\n",
    "    else:\n",
    "        return response"
   ]
  },
  {
   "cell_type": "markdown",
   "metadata": {
    "hidden": true
   },
   "source": [
    "In order to do our search, we'll load in our CSV of all our keywords:"
   ]
  },
  {
   "cell_type": "code",
   "execution_count": null,
   "metadata": {
    "collapsed": true,
    "hidden": true
   },
   "outputs": [],
   "source": [
    "wordsList = pd.read_csv('./keywords.csv')"
   ]
  },
  {
   "cell_type": "markdown",
   "metadata": {
    "hidden": true
   },
   "source": [
    "Now we'll go through our list of keywords and record their counts and save it as a CSV for both the NYT and the Guardian. (Note that because this takes quite a while, we've just shown some of the output and not all of it, but you can see that the code is indeed designed to iterate over all years.)"
   ]
  },
  {
   "cell_type": "markdown",
   "metadata": {
    "hidden": true
   },
   "source": [
    "### Scraping The New York Times"
   ]
  },
  {
   "cell_type": "code",
   "execution_count": null,
   "metadata": {
    "code_folding": [
     0
    ],
    "collapsed": true,
    "hidden": true
   },
   "outputs": [],
   "source": [
    "try:\n",
    "    for year in range(1999, 2017):\n",
    "        tempList = []\n",
    "\n",
    "        for j in range(len(wordsList)):\n",
    "            time.sleep(0.7)\n",
    "            tempList.append(searchNYT(wordsList.iloc[j][0], str(year)+\"-01-01\", str(year+1)+\"-01-01\", justHits=True))\n",
    "            print(tempList[j], end=' ')\n",
    "\n",
    "        # np.savetxt(str(year) + '.csv', tempList)\n",
    "\n",
    "        print(\"Done!\")\n",
    "        \n",
    "except KeyboardInterrupt:\n",
    "    sys.exit(0)"
   ]
  },
  {
   "cell_type": "markdown",
   "metadata": {
    "hidden": true
   },
   "source": [
    "### Scraping The Guardian"
   ]
  },
  {
   "cell_type": "code",
   "execution_count": null,
   "metadata": {
    "code_folding": [
     0
    ],
    "collapsed": true,
    "hidden": true
   },
   "outputs": [],
   "source": [
    "try:\n",
    "    for year in range(1999, 2017):\n",
    "        tempList = []\n",
    "\n",
    "        for j in range(len(wordsList)):\n",
    "\n",
    "            time.sleep(0.1)\n",
    "\n",
    "            diff1 = (searchGuardian(wordsList.iloc[j][0], str(year)+\"-01-01\", justHits=True))\n",
    "\n",
    "            time.sleep(0.1)\n",
    "\n",
    "            diff2 = (searchGuardian(wordsList.iloc[j][0], str(year+1)+\"-01-01\", justHits=True))\n",
    "\n",
    "            # The Guardian's hits number is the number from that the past to the time specified, so we must make two calls\n",
    "            # and take the difference to get an accurate number.\n",
    "            \n",
    "            diff = diff1 - diff2\n",
    "            \n",
    "            tempList.append(diff)\n",
    "\n",
    "            print(diff, end=' ')\n",
    "\n",
    "        np.savetxt('./results/' + str(year) + '.csv', tempList)\n",
    "\n",
    "        print('Done!')\n",
    "        \n",
    "except KeyboardInterrupt:\n",
    "    sys.exit(0)"
   ]
  },
  {
   "cell_type": "markdown",
   "metadata": {
    "heading_collapsed": true
   },
   "source": [
    "## Google Trends"
   ]
  },
  {
   "cell_type": "markdown",
   "metadata": {
    "hidden": true
   },
   "source": [
    "For Google Trends, there is an API called pytrends that makes queries to Google for us and returns data from 2004 onwards about the relative search frequencies of different terms."
   ]
  },
  {
   "cell_type": "code",
   "execution_count": null,
   "metadata": {
    "collapsed": true,
    "hidden": true
   },
   "outputs": [],
   "source": [
    "from pytrends.request import TrendReq\n",
    "pytrends = TrendReq(hl='en-US', tz=360)"
   ]
  },
  {
   "cell_type": "markdown",
   "metadata": {
    "hidden": true
   },
   "source": [
    "It makes less sense, though, to aggregate search results for related words, especially as Google Trends data might not be necessarily additive. So instead we'll import our \"main list\" of the general categories we care about:"
   ]
  },
  {
   "cell_type": "code",
   "execution_count": null,
   "metadata": {
    "collapsed": true,
    "hidden": true
   },
   "outputs": [],
   "source": [
    "majorKeywords = pd.read_csv('./majorKeywords.csv')"
   ]
  },
  {
   "cell_type": "code",
   "execution_count": null,
   "metadata": {
    "collapsed": true,
    "hidden": true
   },
   "outputs": [],
   "source": [
    "majorKeywords"
   ]
  },
  {
   "cell_type": "markdown",
   "metadata": {
    "hidden": true
   },
   "source": [
    "Now we'll run pytrends and get back a new dataframe that includes the counts, month-by-month, of our data. (Note that below, we've slightly modified the names of the majorKeywords to allow us better search coverage.)"
   ]
  },
  {
   "cell_type": "code",
   "execution_count": null,
   "metadata": {
    "collapsed": true,
    "hidden": true
   },
   "outputs": [],
   "source": [
    "googleTrendSum = pd.DataFrame();\n",
    "\n",
    "majorWords = ['heart disease', 'cancer', 'respiratory disease', 'car accidents', 'stroke', 'diabetes', \n",
    "              'alzheimer\\'s', 'pneumonia', 'kidney disease', 'suicide', 'homicide', 'terrorism', 'overdose']\n",
    "\n",
    "for i in majorWords:\n",
    "    kw_list = []\n",
    "    kw_list.append(i)\n",
    "    pytrends.build_payload(kw_list, cat=0, \n",
    "                       timeframe='all', geo='', gprop='')\n",
    "    df = pytrends.interest_over_time()[i]\n",
    "    googleTrendSum[i] = df"
   ]
  },
  {
   "cell_type": "markdown",
   "metadata": {
    "hidden": true
   },
   "source": [
    "Here is a preview of our data:"
   ]
  },
  {
   "cell_type": "code",
   "execution_count": null,
   "metadata": {
    "collapsed": true,
    "hidden": true
   },
   "outputs": [],
   "source": [
    "googleTrendSum = googleTrendSum.transpose()"
   ]
  },
  {
   "cell_type": "code",
   "execution_count": null,
   "metadata": {
    "collapsed": true,
    "hidden": true
   },
   "outputs": [],
   "source": [
    "googleTrendSum.iloc[:, 0:5]"
   ]
  },
  {
   "cell_type": "markdown",
   "metadata": {
    "heading_collapsed": true
   },
   "source": [
    "## Cleaning The Data"
   ]
  },
  {
   "cell_type": "markdown",
   "metadata": {
    "hidden": true
   },
   "source": [
    "### NYT and Guardian"
   ]
  },
  {
   "cell_type": "markdown",
   "metadata": {
    "hidden": true
   },
   "source": [
    "We need to modify our NYT and Guardian hit list to make sure it conforms to our majorKeywords list. Let's load up their CSVs first and see what they look like:"
   ]
  },
  {
   "cell_type": "code",
   "execution_count": null,
   "metadata": {
    "collapsed": true,
    "hidden": true
   },
   "outputs": [],
   "source": [
    "nyt_final = pd.read_csv('./results/NYT/nyt_counts.csv').drop(['Unnamed: 0'], axis=1)\n",
    "guardian_final = pd.read_csv('./results/Guardian/guardian_counts.csv').drop(['Unnamed: 0'], axis=1)"
   ]
  },
  {
   "cell_type": "code",
   "execution_count": null,
   "metadata": {
    "collapsed": true,
    "hidden": true
   },
   "outputs": [],
   "source": [
    "nyt_final"
   ]
  },
  {
   "cell_type": "code",
   "execution_count": null,
   "metadata": {
    "collapsed": true,
    "hidden": true
   },
   "outputs": [],
   "source": [
    "guardian_final"
   ]
  },
  {
   "cell_type": "markdown",
   "metadata": {
    "hidden": true
   },
   "source": [
    "Okay, so there are a lot more categories here than we care about. So let's merge the related ones into our majorKeywords list so we can start to do some better comparisons."
   ]
  },
  {
   "cell_type": "code",
   "execution_count": null,
   "metadata": {
    "collapsed": true,
    "hidden": true
   },
   "outputs": [],
   "source": [
    "nyt_total = pd.DataFrame()\n",
    "\n",
    "nyt_total['Heart Disease'] = nyt_final.iloc[0:3, 1:].sum()\n",
    "nyt_total['Cancer'] = nyt_final.iloc[3:5, 1:].sum()\n",
    "nyt_total['Lower Respiratory Disease'] = nyt_final.iloc[5:9, 1:].sum()\n",
    "nyt_total['Car Accidents'] = nyt_final.iloc[10:13, 1:].sum()\n",
    "nyt_total['Stroke'] = nyt_final.iloc[13:15, 1:].sum()\n",
    "nyt_total['Alzheimer\\'s Disease'] = nyt_final.iloc[15:16, 1:].sum()\n",
    "nyt_total['Diabetes'] = nyt_final.iloc[16:17, 1:].sum()\n",
    "nyt_total['Pneumonia & Influenza'] = nyt_final.iloc[17:20, 1:].sum()\n",
    "nyt_total['Kidney'] = nyt_final.iloc[20:24, 1:].sum()\n",
    "nyt_total['Suicide'] = nyt_final.iloc[24:26, 1:].sum()\n",
    "nyt_total['Homicide'] = nyt_final.iloc[26:30, 1:].sum()\n",
    "nyt_total['Terrorism'] = nyt_final.iloc[30:33, 1:].sum() + nyt_final.iloc[33:35, 1:].sum() \n",
    "nyt_total['Overdose'] = nyt_final.iloc[38:39, 1:].sum()\n",
    "\n",
    "nyt_total = nyt_total.transpose()\n",
    "\n",
    "guardian_total = pd.DataFrame()\n",
    "\n",
    "guardian_total['Heart Disease'] = guardian_final.iloc[0:3, 1:].sum()\n",
    "guardian_total['Cancer'] = guardian_final.iloc[3:5, 1:].sum()\n",
    "guardian_total['Lower Respiratory Disease'] = guardian_final.iloc[5:9, 1:].sum()\n",
    "guardian_total['Car Accidents'] = guardian_final.iloc[10:13, 1:].sum()\n",
    "guardian_total['Stroke'] = guardian_final.iloc[13:15, 1:].sum()\n",
    "guardian_total['Alzheimer\\'s Disease'] = guardian_final.iloc[15:16, 1:].sum()\n",
    "guardian_total['Diabetes'] = guardian_final.iloc[16:17, 1:].sum()\n",
    "guardian_total['Pneumonia & Influenza'] = guardian_final.iloc[17:20, 1:].sum()\n",
    "guardian_total['Kidney'] = guardian_final.iloc[20:24, 1:].sum()\n",
    "guardian_total['Suicide'] = guardian_final.iloc[24:26, 1:].sum()\n",
    "guardian_total['Homicide'] = guardian_final.iloc[26:30, 1:].sum()\n",
    "guardian_total['Terrorism'] = guardian_final.iloc[30:33, 1:].sum() + guardian_final.iloc[33:35, 1:].sum()\n",
    "guardian_total['Overdose'] = guardian_final.iloc[38:39, 1:].sum()\n",
    "\n",
    "guardian_total = guardian_total.transpose()"
   ]
  },
  {
   "cell_type": "code",
   "execution_count": null,
   "metadata": {
    "collapsed": true,
    "hidden": true
   },
   "outputs": [],
   "source": [
    "nyt_total"
   ]
  },
  {
   "cell_type": "code",
   "execution_count": null,
   "metadata": {
    "collapsed": true,
    "hidden": true
   },
   "outputs": [],
   "source": [
    "guardian_total"
   ]
  },
  {
   "cell_type": "markdown",
   "metadata": {
    "hidden": true
   },
   "source": [
    "Now the two dataframes are looking a lot cleaner! Our last step is to normalize them across each year, so we don't need to worry about problems with increased traffic over time, and this makes it easier to graph."
   ]
  },
  {
   "cell_type": "code",
   "execution_count": null,
   "metadata": {
    "collapsed": true,
    "hidden": true
   },
   "outputs": [],
   "source": [
    "nyt_sums = nyt_total.iloc[:, 0:].sum()\n",
    "guardian_sums = guardian_total.iloc[:, 0:].sum()"
   ]
  },
  {
   "cell_type": "code",
   "execution_count": null,
   "metadata": {
    "collapsed": true,
    "hidden": true
   },
   "outputs": [],
   "source": [
    "nyt_total.divide(nyt_sums)"
   ]
  },
  {
   "cell_type": "code",
   "execution_count": null,
   "metadata": {
    "collapsed": true,
    "hidden": true
   },
   "outputs": [],
   "source": [
    "guardian_total.divide(guardian_sums)"
   ]
  },
  {
   "cell_type": "code",
   "execution_count": null,
   "metadata": {
    "collapsed": true,
    "hidden": true
   },
   "outputs": [],
   "source": [
    "guardian_total"
   ]
  },
  {
   "cell_type": "markdown",
   "metadata": {
    "heading_collapsed": true,
    "hidden": true
   },
   "source": [
    "### Google Trends"
   ]
  },
  {
   "cell_type": "markdown",
   "metadata": {
    "hidden": true
   },
   "source": [
    "First off, we need to group up our data by years, as the raw Google trends data is month by month."
   ]
  },
  {
   "cell_type": "code",
   "execution_count": null,
   "metadata": {
    "collapsed": true,
    "hidden": true
   },
   "outputs": [],
   "source": [
    "newGoogle = pd.DataFrame()\n",
    "for i in range(0,13):\n",
    "    newGoogle[str(i+2004)] = googleTrendSum.iloc[:, (i*12):(i+1)*12].sum(axis=1)"
   ]
  },
  {
   "cell_type": "markdown",
   "metadata": {
    "hidden": true
   },
   "source": [
    "Now our data looks like this:"
   ]
  },
  {
   "cell_type": "code",
   "execution_count": null,
   "metadata": {
    "collapsed": true,
    "hidden": true
   },
   "outputs": [],
   "source": [
    "newGoogle"
   ]
  },
  {
   "cell_type": "markdown",
   "metadata": {
    "hidden": true
   },
   "source": [
    "Looking good! Once more, we just normalize, and then we are done:"
   ]
  },
  {
   "cell_type": "code",
   "execution_count": null,
   "metadata": {
    "collapsed": true,
    "hidden": true
   },
   "outputs": [],
   "source": [
    "google_totals = newGoogle.iloc[:, :].sum()"
   ]
  },
  {
   "cell_type": "code",
   "execution_count": null,
   "metadata": {
    "collapsed": true,
    "hidden": true
   },
   "outputs": [],
   "source": [
    "newGoogle.divide(google_totals)"
   ]
  },
  {
   "cell_type": "code",
   "execution_count": null,
   "metadata": {
    "collapsed": true,
    "hidden": true
   },
   "outputs": [],
   "source": []
  }
 ],
 "metadata": {
  "kernelspec": {
   "display_name": "Python 3",
   "language": "python",
   "name": "python3"
  },
  "language_info": {
   "codemirror_mode": {
    "name": "ipython",
    "version": 3
   },
   "file_extension": ".py",
   "mimetype": "text/x-python",
   "name": "python",
   "nbconvert_exporter": "python",
   "pygments_lexer": "ipython3",
   "version": "3.6.3"
  }
 },
 "nbformat": 4,
 "nbformat_minor": 2
}
